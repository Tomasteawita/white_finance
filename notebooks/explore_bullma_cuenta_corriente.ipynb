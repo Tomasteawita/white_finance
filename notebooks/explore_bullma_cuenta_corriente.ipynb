{
 "cells": [
  {
   "cell_type": "code",
   "execution_count": 14,
   "metadata": {},
   "outputs": [],
   "source": [
    "import pandas as pd\n",
    "import polars as pl\n",
    "import subprocess"
   ]
  },
  {
   "cell_type": "code",
   "execution_count": 12,
   "metadata": {},
   "outputs": [
    {
     "name": "stdout",
     "output_type": "stream",
     "text": [
      "\u001b[0m\u001b[01;32m'Cuenta Corriente PESOS 16-07-25.xlsx'\u001b[0m*\n",
      "\u001b[01;32m'Cuenta Corriente PESOS 30-03-25.xlsx'\u001b[0m*\n",
      "\u001b[01;32m'Cuenta Corriente PESOS 30-06-25.xlsx'\u001b[0m*\n"
     ]
    }
   ],
   "source": [
    "%ls /home/jovyan/data/"
   ]
  },
  {
   "cell_type": "code",
   "execution_count": 15,
   "metadata": {},
   "outputs": [
    {
     "name": "stdout",
     "output_type": "stream",
     "text": [
      "['Cuenta Corriente PESOS 16-07-25.xlsx', 'Cuenta Corriente PESOS 30-03-25.xlsx', 'Cuenta Corriente PESOS 30-06-25.xlsx']\n"
     ]
    }
   ],
   "source": [
    "# hago un ls de /home/jovyan/data/, me quedo todos los nomrbes de los archivos en un lista\n",
    "cmd = \"ls /home/jovyan/data/\"\n",
    "result = subprocess.run(cmd, shell=True, capture_output=True, text=True)\n",
    "file_names = result.stdout.splitlines()\n",
    "print(file_names)"
   ]
  },
  {
   "cell_type": "code",
   "execution_count": 17,
   "metadata": {},
   "outputs": [
    {
     "name": "stdout",
     "output_type": "stream",
     "text": [
      "['Cuenta Corriente PESOS 30-03-25.xlsx', 'Cuenta Corriente PESOS 30-06-25.xlsx', 'Cuenta Corriente PESOS 16-07-25.xlsx']\n"
     ]
    }
   ],
   "source": [
    "import re\n",
    "\n",
    "# ordeno ['Cuenta Corriente PESOS 16-07-25.xlsx', 'Cuenta Corriente PESOS 30-03-25.xlsx', 'Cuenta Corriente PESOS 30-06-25.xlsx'] por fecha\n",
    "def extract_date(filename):\n",
    "\tmatch = re.search(r'(\\d{2}-\\d{2}-\\d{2})', filename)\n",
    "\tif match:\n",
    "\t\treturn pd.to_datetime(match.group(1), format='%d-%m-%y')\n",
    "\telse:\n",
    "\t\treturn pd.NaT\n",
    "\n",
    "file_names.sort(key=extract_date)\n",
    "print(file_names)"
   ]
  },
  {
   "cell_type": "code",
   "execution_count": null,
   "metadata": {},
   "outputs": [],
   "source": [
    "\"\"\"\n",
    "Genera un dataframe con el restulado de ganancias/perdidas de operaciones de compra/venta de activos,\n",
    "a partir de un archivo CSV, proveniente del excel que brinda BullMarket de nuestra cuenta corriente.\n",
    "\"\"\"\n",
    "import pandas as pd\n",
    "\n",
    "def lambda_handler(event, context):\n",
    "    \"\"\"\n",
    "    Calcula la ganancia o pérdida realizada para cada operación de venta\n",
    "    de activos a partir de un archivo CSV de cuenta corriente.\n",
    "\n",
    "    Args:\n",
    "        ruta_archivo_csv (str): La ruta al archivo CSV exportado del broker.\n",
    "\n",
    "    Returns:\n",
    "        pandas.DataFrame: Un DataFrame con el resultado de cada venta.\n",
    "    \"\"\"\n",
    "\n",
    "    df_cuenta_corriente_historico = pd.read_csv(, \n",
    "                     delimiter=',',  # El delimitador parece ser coma\n",
    "                     decimal='.')    # Usar punto como separador decimal\n",
    "\n",
    "    # Convertir columnas a los tipos de datos correctos\n",
    "    df_cuenta_corriente_historico['Operado'] = pd.to_datetime(df_cuenta_corriente_historico['Operado'], format='mixed', dayfirst=True, errors='coerce')\n",
    "    # Asegurarse que las columnas numéricas sean floats\n",
    "    for col in ['Cantidad', 'Precio', 'Importe']:\n",
    "        if df_cuenta_corriente_historico[col].dtype == 'object':\n",
    "            df_cuenta_corriente_historico[col] = df_cuenta_corriente_historico[col].str.replace('.', '', regex=False).str.replace(',', '.', regex=False).astype(float)\n",
    "\n",
    "    # 2. Filtrar solo operaciones de compra y venta\n",
    "    operaciones = df_cuenta_corriente_historico[df_cuenta_corriente_historico['Comprobante'].isin(['COMPRA NORMAL', 'VENTA'])].copy()\n",
    "    operaciones = operaciones.sort_values(by='Operado', ascending=True)\n",
    "\n",
    "    # 3. Lógica principal: Iterar y calcular\n",
    "    cartera = {}  # Diccionario para seguir el estado de cada activo\n",
    "                    # Ejemplo: {'GGAL': {'cantidad': 100, 'costo_total': 45000}}\n",
    "    resultados = [] # Lista para guardar los resultados de las ventas\n",
    "\n",
    "    print(\"Procesando operaciones...\")\n",
    "\n",
    "    for index, op in operaciones.iterrows():\n",
    "        especie = op['Especie']\n",
    "        cantidad = op['Cantidad']\n",
    "        importe = op['Importe']\n",
    "        precio_op = op['Precio']\n",
    "\n",
    "        # Inicializar el activo en la cartera si no existe\n",
    "        if especie not in cartera and op['Comprobante'] == 'VENTA':\n",
    "            print(f\"ADVERTENCIA: Se intentó vender {cantidad} de {especie}, pero no hay registro de compra. Se omitirá.\")\n",
    "            continue\n",
    "\n",
    "        elif especie not in cartera:\n",
    "            cartera[especie] = {'cantidad_total': 0.0, 'costo_total': 0.0}\n",
    "\n",
    "        # Si es una COMPRA\n",
    "        if op['Comprobante'] == 'COMPRA NORMAL':\n",
    "            cartera[especie]['cantidad_total'] += abs(cantidad)\n",
    "            cartera[especie]['costo_total'] += abs(importe) # El importe de compra es negativo\n",
    "            print(f\"Compra: {cantidad:.2f} de {especie} a ${precio_op:.2f}\")\n",
    "\n",
    "\n",
    "        # Si es una VENTA\n",
    "        elif op['Comprobante'] == 'VENTA':\n",
    "            if abs(cartera[especie]['cantidad_total']) < abs(cantidad):\n",
    "                print(f\"ADVERTENCIA: Se intentó vender {cantidad} de {especie}, pero solo hay {cartera[especie]['cantidad_total']} en cartera. Se omitirá.\")\n",
    "                cartera.pop(especie, None)\n",
    "                print(f\"Se eliminó {especie} de la cartera por falta de cantidad suficiente.\")\n",
    "                continue\n",
    "\n",
    "            # Calcular el Precio Promedio de Compra (PPC) al momento de la venta\n",
    "            if cartera[especie]['cantidad_total'] > 0:\n",
    "                ppc = cartera[especie]['costo_total'] / cartera[especie]['cantidad_total']\n",
    "            else:\n",
    "                ppc = 0 # Evitar división por cero\n",
    "\n",
    "            # Calcular el costo de los activos vendidos\n",
    "            costo_de_venta = ppc * cantidad\n",
    "            # La ganancia es el importe de la venta (positivo) menos el costo\n",
    "            ganancia_perdida = abs(importe) - abs(costo_de_venta)\n",
    "\n",
    "            print(f\"Venta: {cantidad:.2f} de {especie} a ${precio_op:.2f}. PPC: ${ppc:.2f}. Resultado: ${ganancia_perdida:.2f}\")\n",
    "\n",
    "            # Registrar el resultado de la operación\n",
    "            resultados.append({\n",
    "                'Fecha Venta': op['Operado'].date(),\n",
    "                'Activo': especie,\n",
    "                'Cantidad Vendida': cantidad,\n",
    "                'Precio Venta': precio_op,\n",
    "                'Precio Promedio Compra (PPC)': ppc,\n",
    "                'Costo Total Venta': abs(costo_de_venta),\n",
    "                'Ganancia/Perdida ($)': ganancia_perdida\n",
    "            })\n",
    "\n",
    "            # Actualizar la cartera después de la venta\n",
    "            cartera[especie]['cantidad_total'] -= cantidad\n",
    "            cartera[especie]['costo_total'] -= costo_de_venta\n",
    "\n",
    "            # Si se vendió todo, se puede resetear el costo para evitar errores de flotantes\n",
    "            if cartera[especie]['cantidad_total'] < 1e-9: # Un número muy pequeño\n",
    "                cartera[especie]['cantidad_total'] = 0\n",
    "                cartera[especie]['costo_total'] = 0\n",
    "\n",
    "\n",
    "    print(\"\\n¡Cálculo finalizado!\")\n",
    "    df_results =  pd.DataFrame(resultados)\n",
    "\n",
    "    print(f\"Se procesaron {len(resultados)} operaciones de venta.\")\n",
    "    return {\n",
    "        'statusCode': 200,\n",
    "        'body': json.dumps('Proceso de actualización de históricos completado exitosamente!'),\n",
    "        # 'bucket': target_bucket,\n",
    "        # 'key': target_key_historico\n",
    "    }"
   ]
  }
 ],
 "metadata": {
  "kernelspec": {
   "display_name": "Python 3 (ipykernel)",
   "language": "python",
   "name": "python3"
  },
  "language_info": {
   "codemirror_mode": {
    "name": "ipython",
    "version": 3
   },
   "file_extension": ".py",
   "mimetype": "text/x-python",
   "name": "python",
   "nbconvert_exporter": "python",
   "pygments_lexer": "ipython3",
   "version": "3.11.6"
  }
 },
 "nbformat": 4,
 "nbformat_minor": 2
}
